{
 "cells": [
  {
   "cell_type": "code",
   "execution_count": 34,
   "id": "b4a22a49",
   "metadata": {},
   "outputs": [],
   "source": [
    "import numpy as np\n",
    "import pandas as pd\n",
    "import datetime as dt\n",
    "import yfinance as yf\n",
    "import matplotlib.pyplot as plt\n",
    "from scipy.stats import norm"
   ]
  },
  {
   "cell_type": "code",
   "execution_count": 35,
   "id": "d6cacbb8",
   "metadata": {},
   "outputs": [],
   "source": [
    "### Set time from to a certain number of years\n",
    "years = 15\n",
    "\n",
    "endDate = dt.datetime.now()\n",
    "startDate = endDate - dt.timedelta(days = 365*years)\n",
    "\n",
    "### Create a list of tickers\n",
    "tickers = ['TCS.NS','RELIANCE.NS','SBIN.NS','ITC.NS','INFY.NS']"
   ]
  },
  {
   "cell_type": "code",
   "execution_count": 36,
   "id": "3a7b8181",
   "metadata": {},
   "outputs": [
    {
     "name": "stdout",
     "output_type": "stream",
     "text": [
      "[*********************100%***********************]  1 of 1 completed\n",
      "[*********************100%***********************]  1 of 1 completed\n",
      "[*********************100%***********************]  1 of 1 completed\n",
      "[*********************100%***********************]  1 of 1 completed\n",
      "[*********************100%***********************]  1 of 1 completed\n",
      "                 TCS.NS  RELIANCE.NS     SBIN.NS      ITC.NS      INFY.NS\n",
      "Date                                                                     \n",
      "2008-09-29   115.319542   429.731323  118.080917   45.200371   125.594612\n",
      "2008-09-30   123.801071   433.399811  122.945480   44.420856   126.022812\n",
      "2008-10-01   124.945015   423.917511  126.398537   45.448391   130.642578\n",
      "2008-10-03   122.294533   391.623901  124.651039   44.987774   125.468414\n",
      "2008-10-06   115.133522   364.977661  120.433403   42.519287   118.865532\n",
      "...                 ...          ...         ...         ...          ...\n",
      "2023-09-18  3606.149902  2436.449951  603.950012  452.049988  1491.800049\n",
      "2023-09-20  3606.050049  2382.149902  601.099976  452.950012  1490.250000\n",
      "2023-09-21  3585.300049  2364.800049  588.150024  447.500000  1501.750000\n",
      "2023-09-22  3603.649902  2354.949951  598.150024  443.100006  1496.150024\n",
      "2023-09-25  3577.149902  2340.449951  594.049988  442.600006  1474.150024\n",
      "\n",
      "[3694 rows x 5 columns]\n"
     ]
    }
   ],
   "source": [
    "### Download the daily adjusted close prices for the tickers\n",
    "adj_close_df = pd.DataFrame()\n",
    "\n",
    "for ticker in tickers:\n",
    "    data = yf.download(ticker, start = startDate, end = endDate)\n",
    "    adj_close_df[ticker] = data['Adj Close']\n",
    "\n",
    "print(adj_close_df)"
   ]
  },
  {
   "cell_type": "code",
   "execution_count": 37,
   "id": "80676c5b",
   "metadata": {},
   "outputs": [
    {
     "name": "stdout",
     "output_type": "stream",
     "text": [
      "              TCS.NS  RELIANCE.NS   SBIN.NS    ITC.NS   INFY.NS\n",
      "Date                                                           \n",
      "2008-09-30  0.070969     0.008500  0.040371 -0.017396  0.003404\n",
      "2008-10-01  0.009198    -0.022122  0.027699  0.022868  0.036002\n",
      "2008-10-03 -0.021441    -0.079237 -0.013922 -0.010187 -0.040411\n",
      "2008-10-06 -0.060340    -0.070466 -0.034421 -0.056433 -0.054061\n",
      "2008-10-07 -0.072171     0.019933 -0.019087 -0.031032 -0.012860\n",
      "...              ...          ...       ...       ...       ...\n",
      "2023-09-18  0.002179    -0.008745  0.008564  0.008219 -0.013185\n",
      "2023-09-20 -0.000028    -0.022539 -0.004730  0.001989 -0.001040\n",
      "2023-09-21 -0.005771    -0.007310 -0.021779 -0.012105  0.007687\n",
      "2023-09-22  0.005105    -0.004174  0.016860 -0.009881 -0.003736\n",
      "2023-09-25 -0.007381    -0.006176 -0.006878 -0.001129 -0.014814\n",
      "\n",
      "[3693 rows x 5 columns]\n"
     ]
    }
   ],
   "source": [
    "### Calculate the daily log returns and drop any NAs\n",
    "### Because its easier to add log returns \n",
    "log_returns = np.log(adj_close_df/adj_close_df.shift(1))\n",
    "###  Delete any not applicable values\n",
    "log_returns  = log_returns.dropna()\n",
    "\n",
    "print(log_returns)"
   ]
  },
  {
   "cell_type": "code",
   "execution_count": 38,
   "id": "4d440906",
   "metadata": {},
   "outputs": [],
   "source": [
    "### Create a function that will be used to calculate portfolio expected return\n",
    "###We are assuming that future returns are based on past returns, which is not a reliable assumption.\n",
    "def expected_return(weights, log_returns):\n",
    "    return np.sum(log_returns.mean()*weights)\n",
    "\n",
    "### Create a function that will be used to calculate portfolio standard deviation\n",
    "### Corelation matrix finds correlation of each stock with each other\n",
    "\n",
    "def standard_deviation (weights, cov_matrix):\n",
    "    ### transpose of weight * matrix * original weight matrix\n",
    "    variance = weights.T @ cov_matrix @ weights\n",
    "    return np.sqrt(variance)"
   ]
  },
  {
   "cell_type": "code",
   "execution_count": 39,
   "id": "bef8bbc9",
   "metadata": {},
   "outputs": [
    {
     "name": "stdout",
     "output_type": "stream",
     "text": [
      "               TCS.NS  RELIANCE.NS   SBIN.NS    ITC.NS   INFY.NS\n",
      "TCS.NS       0.000323     0.000123  0.000097  0.000075  0.000193\n",
      "RELIANCE.NS  0.000123     0.000401  0.000196  0.000093  0.000116\n",
      "SBIN.NS      0.000097     0.000196  0.000504  0.000120  0.000091\n",
      "ITC.NS       0.000075     0.000093  0.000120  0.000276  0.000061\n",
      "INFY.NS      0.000193     0.000116  0.000091  0.000061  0.000338\n"
     ]
    }
   ],
   "source": [
    "### Create a covariance matrix for all the securities\n",
    "cov_matrix = log_returns.cov()\n",
    "print(cov_matrix)"
   ]
  },
  {
   "cell_type": "code",
   "execution_count": 40,
   "id": "689d31c8",
   "metadata": {},
   "outputs": [],
   "source": [
    "### Create an equally weighted portfolio and find total portfolio expected return and standard deviation\n",
    "portfolio_value = 1000000\n",
    "## equally weighted\n",
    "weights = np.array([1/len(tickers)]*len(tickers))\n",
    "portfolio_expected_return = expected_return(weights, log_returns)\n",
    "portfolio_std_dev = standard_deviation (weights, cov_matrix)"
   ]
  },
  {
   "cell_type": "code",
   "execution_count": 41,
   "id": "5d8f2395",
   "metadata": {},
   "outputs": [],
   "source": [
    "def random_z_score():\n",
    "    return np.random.normal(0, 1)\n",
    "\n",
    "### Create a function to calculate scenarioGainLoss\n",
    "days = 20\n",
    "\n",
    "def scenario_gain_loss(portfolio_value, portfolio_std_dev, z_score, days):\n",
    "    return portfolio_value * portfolio_expected_return * days + portfolio_value * portfolio_std_dev * z_score * np.sqrt(days)\n",
    "### portfolio_value * portfolio_expected_return * days= expected return over than number of days\n",
    "### this factors in volatility"
   ]
  },
  {
   "cell_type": "code",
   "execution_count": 42,
   "id": "09684199",
   "metadata": {},
   "outputs": [],
   "source": [
    "### Run 10000 simulations\n",
    "simulations = 10000\n",
    "scenarioReturn = []\n",
    "\n",
    "for i in range(simulations):\n",
    "    z_score = random_z_score()\n",
    "    scenarioReturn.append(scenario_gain_loss(portfolio_value, portfolio_std_dev, z_score, days))"
   ]
  },
  {
   "cell_type": "code",
   "execution_count": 43,
   "id": "5fc4dcb8",
   "metadata": {},
   "outputs": [
    {
     "name": "stdout",
     "output_type": "stream",
     "text": [
      "123458.26885250007\n"
     ]
    }
   ],
   "source": [
    "### Specify a confidence interval and calculate the Value at Risk (VaR)\n",
    "### if days increase var increases , if confidence interval increases var increases\n",
    "confidence_interval = 0.99\n",
    "VaR = -np.percentile(scenarioReturn, 100 * (1 - confidence_interval))\n",
    "print(VaR)"
   ]
  },
  {
   "cell_type": "code",
   "execution_count": 44,
   "id": "028bcdac",
   "metadata": {},
   "outputs": [
    {
     "data": {
      "image/png": "[encoded data removed]",
      "text/plain": [
       "<Figure size 640x480 with 1 Axes>"
      ]
     },
     "metadata": {},
     "output_type": "display_data"
    }
   ],
   "source": [
    "### Plot the results of all 10000 scenarios\n",
    "plt.hist(scenarioReturn, bins=50, density=True)\n",
    "plt.xlabel('Scenario Gain/Loss ($)')\n",
    "plt.ylabel('Frequency')\n",
    "plt.title(f'Distribution of Portfolio Gain/Loss Over {days} Days')\n",
    "plt.axvline(-VaR, color='r', linestyle='dashed', linewidth=2, label=f'VaR at {confidence_interval:.0%} confidence level')\n",
    "plt.legend()\n",
    "plt.show()"
   ]
  },
  {
   "cell_type": "code",
   "execution_count": null,
   "id": "5b48d223",
   "metadata": {},
   "outputs": [],
   "source": []
  }
 ],
 "metadata": {
  "kernelspec": {
   "display_name": "Python 3 (ipykernel)",
   "language": "python",
   "name": "python3"
  },
  "language_info": {
   "codemirror_mode": {
    "name": "ipython",
    "version": 3
   },
   "file_extension": ".py",
   "mimetype": "text/x-python",
   "name": "python",
   "nbconvert_exporter": "python",
   "pygments_lexer": "ipython3",
   "version": "3.11.3"
  }
 },
 "nbformat": 4,
 "nbformat_minor": 5
}
