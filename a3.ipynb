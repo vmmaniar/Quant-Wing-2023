{
 "cells": [
  {
   "cell_type": "code",
   "execution_count": 1,
   "id": "6175ecbf",
   "metadata": {},
   "outputs": [],
   "source": [
    "import numpy as np\n",
    "import pandas as pd\n",
    "import datetime as dt\n",
    "import yfinance as yf\n",
    "import matplotlib.pyplot as plt\n",
    "from scipy.stats import norm"
   ]
  },
  {
   "cell_type": "code",
   "execution_count": 2,
   "id": "0bf84094",
   "metadata": {},
   "outputs": [],
   "source": [
    "### Set time from to a certain number of years\n",
    "years = 15\n",
    "\n",
    "endDate = dt.datetime.now()\n",
    "startDate = endDate - dt.timedelta(days = 365*years)\n",
    "\n",
    "### Create a list of tickers\n",
    "tickers = ['SPY','BND','GLD','QQQ','VTI']"
   ]
  },
  {
   "cell_type": "code",
   "execution_count": 3,
   "id": "199213b2",
   "metadata": {},
   "outputs": [
    {
     "name": "stdout",
     "output_type": "stream",
     "text": [
      "[*********************100%***********************]  1 of 1 completed\n",
      "[*********************100%***********************]  1 of 1 completed\n",
      "[*********************100%***********************]  1 of 1 completed\n",
      "[*********************100%***********************]  1 of 1 completed\n",
      "[*********************100%***********************]  1 of 1 completed\n",
      "                   SPY        BND         GLD         QQQ         VTI\n",
      "Date                                                                 \n",
      "2008-09-29   83.355927  49.413876   89.570000   33.083328   42.843140\n",
      "2008-09-30   86.806007  48.851822   85.070000   34.036800   43.981091\n",
      "2008-10-01   86.858391  48.591858   85.970001   33.678143   43.928352\n",
      "2008-10-02   83.707687  49.538376   82.330002   32.147316   41.953884\n",
      "2008-10-03   82.577606  49.266106   82.589996   31.648708   41.313293\n",
      "...                ...        ...         ...         ...         ...\n",
      "2023-09-18  443.630005  70.860001  179.389999  370.660004  220.242844\n",
      "2023-09-19  442.709991  70.709999  179.220001  369.869995  219.684891\n",
      "2023-09-20  438.640015  70.620003  179.350006  364.540009  217.741989\n",
      "2023-09-21  431.390015  70.180000  178.050003  357.859985  214.089996\n",
      "2023-09-22  430.420013  70.470001  178.619995  357.910004  213.639999\n",
      "\n",
      "[3772 rows x 5 columns]\n"
     ]
    }
   ],
   "source": [
    "### Download the daily adjusted close prices for the tickers\n",
    "adj_close_df = pd.DataFrame()\n",
    "\n",
    "for ticker in tickers:\n",
    "    data = yf.download(ticker, start = startDate, end = endDate)\n",
    "    adj_close_df[ticker] = data['Adj Close']\n",
    "\n",
    "print(adj_close_df)"
   ]
  },
  {
   "cell_type": "code",
   "execution_count": 14,
   "id": "73df0a69",
   "metadata": {},
   "outputs": [
    {
     "name": "stdout",
     "output_type": "stream",
     "text": [
      "                 SPY       BND       GLD       QQQ       VTI\n",
      "Date                                                        \n",
      "2008-09-30  0.040556 -0.011440 -0.051546  0.028413  0.026214\n",
      "2008-10-01  0.000603 -0.005336  0.010524 -0.010593 -0.001200\n",
      "2008-10-02 -0.036948  0.019292 -0.043263 -0.046520 -0.045989\n",
      "2008-10-03 -0.013592 -0.005511  0.003153 -0.015632 -0.015387\n",
      "2008-10-06 -0.052277 -0.008059  0.020256 -0.037166 -0.035463\n",
      "...              ...       ...       ...       ...       ...\n",
      "2023-09-18  0.000586  0.000988  0.005870  0.001042  0.000091\n",
      "2023-09-19 -0.002076 -0.002119 -0.000948 -0.002134 -0.002537\n",
      "2023-09-20 -0.009236 -0.001274  0.000725 -0.014515 -0.008883\n",
      "2023-09-21 -0.016666 -0.006250 -0.007275 -0.018495 -0.016914\n",
      "2023-09-22 -0.002251  0.004124  0.003196  0.000140 -0.002104\n",
      "\n",
      "[3771 rows x 5 columns]\n"
     ]
    }
   ],
   "source": [
    "### Calculate the daily log returns and drop any NAs\n",
    "### Because its easier to add log returns \n",
    "log_returns = np.log(adj_close_df/adj_close_df.shift(1))\n",
    "###  Delete any not applicable values\n",
    "log_returns  = log_returns.dropna()\n",
    "\n",
    "print(log_returns)"
   ]
  },
  {
   "cell_type": "code",
   "execution_count": 7,
   "id": "03872e89",
   "metadata": {},
   "outputs": [],
   "source": [
    "### Create a function that will be used to calculate portfolio expected return\n",
    "###We are assuming that future returns are based on past returns, which is not a reliable assumption.\n",
    "def expected_return(weights, log_returns):\n",
    "    return np.sum(log_returns.mean()*weights)\n",
    "\n",
    "### Create a function that will be used to calculate portfolio standard deviation\n",
    "### Corelation matrix finds correlation of each stock with each other\n",
    "\n",
    "def standard_deviation (weights, cov_matrix):\n",
    "    ### transpose of weight * matrix * original weight matrix\n",
    "    variance = weights.T @ cov_matrix @ weights\n",
    "    return np.sqrt(variance)"
   ]
  },
  {
   "cell_type": "code",
   "execution_count": 8,
   "id": "8a260710",
   "metadata": {},
   "outputs": [
    {
     "name": "stdout",
     "output_type": "stream",
     "text": [
      "              SPY           BND       GLD           QQQ           VTI\n",
      "SPY  1.629367e-04  4.546846e-07  0.000010  1.673491e-04  1.637617e-04\n",
      "BND  4.546846e-07  1.059812e-05  0.000008  1.366075e-07  3.404679e-07\n",
      "GLD  9.588169e-06  8.461225e-06  0.000112  9.279010e-06  1.061590e-05\n",
      "QQQ  1.673491e-04  1.366075e-07  0.000009  2.001966e-04  1.694562e-04\n",
      "VTI  1.637617e-04  3.404679e-07  0.000011  1.694562e-04  1.665289e-04\n"
     ]
    }
   ],
   "source": [
    "### Create a covariance matrix for all the securities\n",
    "cov_matrix = log_returns.cov()\n",
    "print(cov_matrix)"
   ]
  },
  {
   "cell_type": "code",
   "execution_count": 9,
   "id": "7db93df4",
   "metadata": {},
   "outputs": [],
   "source": [
    "### Create an equally weighted portfolio and find total portfolio expected return and standard deviation\n",
    "portfolio_value = 1000000\n",
    "## equally weighted\n",
    "weights = np.array([1/len(tickers)]*len(tickers))\n",
    "portfolio_expected_return = expected_return(weights, log_returns)\n",
    "portfolio_std_dev = standard_deviation (weights, cov_matrix)"
   ]
  },
  {
   "cell_type": "code",
   "execution_count": 10,
   "id": "87ca537c",
   "metadata": {},
   "outputs": [],
   "source": [
    "def random_z_score():\n",
    "    return np.random.normal(0, 1)\n",
    "\n",
    "### Create a function to calculate scenarioGainLoss\n",
    "days = 20\n",
    "\n",
    "def scenario_gain_loss(portfolio_value, portfolio_std_dev, z_score, days):\n",
    "    return portfolio_value * portfolio_expected_return * days + portfolio_value * portfolio_std_dev * z_score * np.sqrt(days)\n",
    "### portfolio_value * portfolio_expected_return * days= expected return over than number of days\n",
    "### this factors in volatility"
   ]
  },
  {
   "cell_type": "code",
   "execution_count": 11,
   "id": "4affcf2a",
   "metadata": {},
   "outputs": [],
   "source": [
    "### Run 10000 simulations\n",
    "simulations = 10000\n",
    "scenarioReturn = []\n",
    "\n",
    "for i in range(simulations):\n",
    "    z_score = random_z_score()\n",
    "    scenarioReturn.append(scenario_gain_loss(portfolio_value, portfolio_std_dev, z_score, days))"
   ]
  },
  {
   "cell_type": "code",
   "execution_count": 12,
   "id": "9785aef0",
   "metadata": {},
   "outputs": [
    {
     "name": "stdout",
     "output_type": "stream",
     "text": [
      "78283.67117254253\n"
     ]
    }
   ],
   "source": [
    "### Specify a confidence interval and calculate the Value at Risk (VaR)\n",
    "### if days increase var increases , if confidence interval increases var increases\n",
    "confidence_interval = 0.99\n",
    "VaR = -np.percentile(scenarioReturn, 100 * (1 - confidence_interval))\n",
    "print(VaR)"
   ]
  },
  {
   "cell_type": "code",
   "execution_count": 13,
   "id": "9bec5934",
   "metadata": {},
   "outputs": [
    {
     "data": {
      "image/png": "[encoded data removed]",
      "text/plain": [
       "<Figure size 640x480 with 1 Axes>"
      ]
     },
     "metadata": {},
     "output_type": "display_data"
    }
   ],
   "source": [
    "### Plot the results of all 10000 scenarios\n",
    "plt.hist(scenarioReturn, bins=50, density=True)\n",
    "plt.xlabel('Scenario Gain/Loss ($)')\n",
    "plt.ylabel('Frequency')\n",
    "plt.title(f'Distribution of Portfolio Gain/Loss Over {days} Days')\n",
    "plt.axvline(-VaR, color='r', linestyle='dashed', linewidth=2, label=f'VaR at {confidence_interval:.0%} confidence level')\n",
    "plt.legend()\n",
    "plt.show()"
   ]
  },
  {
   "cell_type": "code",
   "execution_count": null,
   "id": "128edbc8",
   "metadata": {},
   "outputs": [],
   "source": []
  }
 ],
 "metadata": {
  "kernelspec": {
   "display_name": "Python 3 (ipykernel)",
   "language": "python",
   "name": "python3"
  },
  "language_info": {
   "codemirror_mode": {
    "name": "ipython",
    "version": 3
   },
   "file_extension": ".py",
   "mimetype": "text/x-python",
   "name": "python",
   "nbconvert_exporter": "python",
   "pygments_lexer": "ipython3",
   "version": "3.11.3"
  }
 },
 "nbformat": 4,
 "nbformat_minor": 5
}
