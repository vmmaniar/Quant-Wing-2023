{
 "cells": [
  {
   "cell_type": "code",
   "execution_count": 1,
   "metadata": {},
   "outputs": [],
   "source": [
    "import numpy as np\n",
    "import pandas as pd\n",
    "import datetime as dt\n",
    "import yfinance as yf\n",
    "import matplotlib.pyplot as plt\n",
    "from scipy.stats import norm"
   ]
  },
  {
   "cell_type": "code",
   "execution_count": 7,
   "metadata": {},
   "outputs": [],
   "source": [
    "### Set time from to a certain number of years\n",
    "years = 1\n",
    "\n",
    "endDate = dt.datetime.now()\n",
    "startDate = endDate - dt.timedelta(days = 365*years)\n",
    "\n",
    "### Create a list of tickers\n",
    "tickers = ['RELIANCE.NS', 'TCS.NS', 'HDFCBANK.NS', 'INFY.NS', 'ICICIBANK.NS', 'SBIN.NS', 'HINDUNILVR.NS', 'KOTAKBANK.NS', 'LT.NS', 'BAJAJFINSV.NS', 'NESTLEIND.NS', 'ITC.NS', 'WIPRO.NS', 'BAJAJAUTO.NS', 'BHARTIARTL.NS', 'AXISBANK.NS', 'TECHM.NS', 'TITAN.NS', 'HINDALCO.NS']"
   ]
  },
  {
   "cell_type": "code",
   "execution_count": 8,
   "metadata": {},
   "outputs": [
    {
     "name": "stdout",
     "output_type": "stream",
     "text": [
      "[*********************100%%**********************]  1 of 1 completed\n",
      "[*********************100%%**********************]  1 of 1 completed\n",
      "[*********************100%%**********************]  1 of 1 completed\n",
      "[*********************100%%**********************]  1 of 1 completed\n",
      "[*********************100%%**********************]  1 of 1 completed\n",
      "[*********************100%%**********************]  1 of 1 completed\n",
      "[*********************100%%**********************]  1 of 1 completed\n",
      "[*********************100%%**********************]  1 of 1 completed\n",
      "[*********************100%%**********************]  1 of 1 completed\n",
      "[*********************100%%**********************]  1 of 1 completed\n",
      "[*********************100%%**********************]  1 of 1 completed\n",
      "[*********************100%%**********************]  1 of 1 completed\n",
      "[*********************100%%**********************]  1 of 1 completed\n",
      "[*********************100%%**********************]  1 of 1 completed"
     ]
    },
    {
     "name": "stderr",
     "output_type": "stream",
     "text": [
      "\n",
      "1 Failed download:\n",
      "['BAJAJAUTO.NS']: Exception('%ticker%: No timezone found, symbol may be delisted')\n"
     ]
    },
    {
     "name": "stdout",
     "output_type": "stream",
     "text": [
      "\n",
      "[*********************100%%**********************]  1 of 1 completed\n",
      "[*********************100%%**********************]  1 of 1 completed\n",
      "[*********************100%%**********************]  1 of 1 completed\n",
      "[*********************100%%**********************]  1 of 1 completed\n",
      "[*********************100%%**********************]  1 of 1 completed\n",
      "            RELIANCE.NS       TCS.NS  HDFCBANK.NS      INFY.NS  ICICIBANK.NS  \\\n",
      "Date                                                                           \n",
      "2022-11-07  2597.424805  3129.840332  1491.693481  1448.957031    910.009460   \n",
      "2022-11-09  2594.833984  3112.757324  1491.248535  1452.561646    903.066589   \n",
      "2022-11-10  2563.444824  3102.691406  1507.462524  1443.670532    903.264954   \n",
      "2022-11-11  2622.536133  3209.448975  1592.883057  1509.176147    899.148804   \n",
      "2022-11-14  2609.831055  3228.370605  1596.738770  1523.786377    887.643555   \n",
      "...                 ...          ...          ...          ...           ...   \n",
      "2023-10-30  2312.500000  3378.550049  1485.099976  1377.050049    924.900024   \n",
      "2023-10-31  2287.899902  3368.750000  1476.500000  1368.400024    915.349976   \n",
      "2023-11-01  2297.399902  3330.649902  1474.500000  1354.150024    914.049988   \n",
      "2023-11-02  2320.199951  3360.100098  1476.750000  1370.150024    919.950012   \n",
      "2023-11-03  2319.699951  3350.899902  1483.750000  1389.050049    933.799988   \n",
      "\n",
      "               SBIN.NS  HINDUNILVR.NS  KOTAKBANK.NS        LT.NS  \\\n",
      "Date                                                               \n",
      "2022-11-07  602.443054    2493.989990   1881.051147  2013.110229   \n",
      "2022-11-09  603.816284    2470.357666   1891.842285  1998.992065   \n",
      "2022-11-10  594.203125    2475.084229   1910.576904  1973.200317   \n",
      "2022-11-11  589.837952    2464.695801   1897.537598  2006.574951   \n",
      "2022-11-14  581.254761    2420.139160   1921.218140  1995.300415   \n",
      "...                ...            ...           ...          ...   \n",
      "2023-10-30  565.200012    2460.851562   1717.500000  2926.350098   \n",
      "2023-10-31  565.549988    2465.914307   1739.400024  2929.050049   \n",
      "2023-11-01  566.400024    2454.250000   1724.400024  2895.300049   \n",
      "2023-11-02  572.099976    2486.800049   1737.699951  2918.100098   \n",
      "2023-11-03  578.150024    2509.250000   1733.250000  2911.250000   \n",
      "\n",
      "            BAJAJFINSV.NS  NESTLEIND.NS      ITC.NS    WIPRO.NS  BAJAJAUTO.NS  \\\n",
      "Date                                                                            \n",
      "2022-11-07    1776.182617  20260.492188  345.880554  390.538086           NaN   \n",
      "2022-11-09    1750.859131  20101.863281  352.925385  389.989441           NaN   \n",
      "2022-11-10    1698.564087  19958.816406  348.326721  387.944458           NaN   \n",
      "2022-11-11    1717.444336  20104.433594  348.669159  398.717926           NaN   \n",
      "2022-11-14    1716.545166  19849.894531  339.716400  395.575653           NaN   \n",
      "...                   ...           ...         ...         ...           ...   \n",
      "2023-10-30    1561.099976  24032.064453  430.450012  382.000000           NaN   \n",
      "2023-10-31    1569.550049  24094.800781  428.399994  381.799988           NaN   \n",
      "2023-11-01    1572.849976  23872.699219  428.100006  380.950012           NaN   \n",
      "2023-11-02    1575.599976  24111.800781  431.149994  383.649994           NaN   \n",
      "2023-11-03    1536.150024  23999.050781  433.250000  383.549988           NaN   \n",
      "\n",
      "            BHARTIARTL.NS  AXISBANK.NS     TECHM.NS     TITAN.NS  HINDALCO.NS  \n",
      "Date                                                                           \n",
      "2022-11-07     818.938232   872.060120   972.626160  2732.696289   434.661865  \n",
      "2022-11-09     815.304932   872.809326   966.239014  2709.322266   414.394196  \n",
      "2022-11-10     821.974304   842.839905   959.100464  2632.470947   412.407166  \n",
      "2022-11-11     823.119080   849.832764   994.417480  2643.236328   427.061493  \n",
      "2022-11-14     818.141907   850.132446  1000.663757  2621.307373   452.594757  \n",
      "...                   ...          ...          ...          ...          ...  \n",
      "2023-10-30     926.250000   989.200012  1114.880859  3116.449951   456.649994  \n",
      "2023-10-31     914.400024   981.849976  1121.064209  3189.649902   459.500000  \n",
      "2023-11-01     913.450012   971.799988  1113.099976  3173.399902   462.700012  \n",
      "2023-11-02     923.849976   982.950012  1115.500000  3201.500000   474.200012  \n",
      "2023-11-03     930.750000   988.849976  1133.099976  3274.500000   475.200012  \n",
      "\n",
      "[247 rows x 19 columns]\n"
     ]
    }
   ],
   "source": [
    "### Download the daily adjusted close prices for the tickers\n",
    "adj_close_df = pd.DataFrame()\n",
    "\n",
    "for ticker in tickers:\n",
    "    data = yf.download(ticker, start = startDate, end = endDate)\n",
    "    adj_close_df[ticker] = data['Adj Close']\n",
    "\n",
    "print(adj_close_df)"
   ]
  },
  {
   "cell_type": "code",
   "execution_count": 9,
   "metadata": {},
   "outputs": [],
   "source": [
    "### Create a covariance matrix for all the securities\n",
    "cov_matrix = adj_close_df.cov()\n",
    "cov_matrix = np.array(cov_matrix)\n"
   ]
  },
  {
   "cell_type": "code",
   "execution_count": 10,
   "metadata": {},
   "outputs": [
    {
     "name": "stdout",
     "output_type": "stream",
     "text": [
      "Selected stocks with the least covariance:\n",
      "RELIANCE.NS\n",
      "LT.NS\n",
      "HDFCBANK.NS\n",
      "INFY.NS\n",
      "KOTAKBANK.NS\n"
     ]
    }
   ],
   "source": [
    "# Find the stocks with the least covariance\n",
    "num_selected_stocks = 5  # You can change this to the number of stocks you want to select\n",
    "min_covariance_stocks = []\n",
    "\n",
    "for _ in range(num_selected_stocks):\n",
    "    min_covariance = float('inf')\n",
    "    selected_stock = None\n",
    "\n",
    "    for i in range(len(tickers)):\n",
    "        if tickers[i] not in min_covariance_stocks:\n",
    "            covariance = 0\n",
    "            for stock in min_covariance_stocks:\n",
    "                covariance += cov_matrix[i][tickers.index(stock)]\n",
    "\n",
    "            if covariance < min_covariance:\n",
    "                min_covariance = covariance\n",
    "                selected_stock = tickers[i]\n",
    "\n",
    "    min_covariance_stocks.append(selected_stock)\n",
    "\n",
    "print(f\"Selected stocks with the least covariance:\")\n",
    "for stock in min_covariance_stocks:\n",
    "    print(stock)\n"
   ]
  },
  {
   "cell_type": "code",
   "execution_count": null,
   "metadata": {},
   "outputs": [],
   "source": []
  }
 ],
 "metadata": {
  "kernelspec": {
   "display_name": "Python 3",
   "language": "python",
   "name": "python3"
  },
  "language_info": {
   "codemirror_mode": {
    "name": "ipython",
    "version": 3
   },
   "file_extension": ".py",
   "mimetype": "text/x-python",
   "name": "python",
   "nbconvert_exporter": "python",
   "pygments_lexer": "ipython3",
   "version": "3.12.0"
  }
 },
 "nbformat": 4,
 "nbformat_minor": 2
}
